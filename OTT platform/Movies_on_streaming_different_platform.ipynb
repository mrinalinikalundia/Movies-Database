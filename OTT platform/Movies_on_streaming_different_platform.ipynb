{
  "nbformat": 4,
  "nbformat_minor": 0,
  "metadata": {
    "colab": {
      "name": "Movies on streaming different platform.ipynb",
      "provenance": []
    },
    "kernelspec": {
      "name": "python3",
      "display_name": "Python 3"
    },
    "language_info": {
      "name": "python"
    }
  },
  "cells": [
    {
      "cell_type": "code",
      "metadata": {
        "id": "32K0ppB8CZSl"
      },
      "source": [
        "import pandas as pd\n",
        "import numpy as np"
      ],
      "execution_count": 1,
      "outputs": []
    },
    {
      "cell_type": "code",
      "metadata": {
        "id": "M9g-cP-FDwL9"
      },
      "source": [
        "df=pd.read_csv('/content/MoviesOnStreamingPlatforms_updated.csv.zip')"
      ],
      "execution_count": 2,
      "outputs": []
    },
    {
      "cell_type": "code",
      "metadata": {
        "colab": {
          "base_uri": "https://localhost:8080/",
          "height": 790
        },
        "id": "t8r3xnCAD3rW",
        "outputId": "d22be627-81d3-4923-e20a-14363d12ae66"
      },
      "source": [
        "df"
      ],
      "execution_count": 3,
      "outputs": [
        {
          "output_type": "execute_result",
          "data": {
            "text/html": [
              "<div>\n",
              "<style scoped>\n",
              "    .dataframe tbody tr th:only-of-type {\n",
              "        vertical-align: middle;\n",
              "    }\n",
              "\n",
              "    .dataframe tbody tr th {\n",
              "        vertical-align: top;\n",
              "    }\n",
              "\n",
              "    .dataframe thead th {\n",
              "        text-align: right;\n",
              "    }\n",
              "</style>\n",
              "<table border=\"1\" class=\"dataframe\">\n",
              "  <thead>\n",
              "    <tr style=\"text-align: right;\">\n",
              "      <th></th>\n",
              "      <th>Unnamed: 0</th>\n",
              "      <th>ID</th>\n",
              "      <th>Title</th>\n",
              "      <th>Year</th>\n",
              "      <th>Age</th>\n",
              "      <th>IMDb</th>\n",
              "      <th>Rotten Tomatoes</th>\n",
              "      <th>Netflix</th>\n",
              "      <th>Hulu</th>\n",
              "      <th>Prime Video</th>\n",
              "      <th>Disney+</th>\n",
              "      <th>Type</th>\n",
              "      <th>Directors</th>\n",
              "      <th>Genres</th>\n",
              "      <th>Country</th>\n",
              "      <th>Language</th>\n",
              "      <th>Runtime</th>\n",
              "    </tr>\n",
              "  </thead>\n",
              "  <tbody>\n",
              "    <tr>\n",
              "      <th>0</th>\n",
              "      <td>0</td>\n",
              "      <td>1</td>\n",
              "      <td>Inception</td>\n",
              "      <td>2010</td>\n",
              "      <td>13+</td>\n",
              "      <td>8.8</td>\n",
              "      <td>87%</td>\n",
              "      <td>1</td>\n",
              "      <td>0</td>\n",
              "      <td>0</td>\n",
              "      <td>0</td>\n",
              "      <td>0</td>\n",
              "      <td>Christopher Nolan</td>\n",
              "      <td>Action,Adventure,Sci-Fi,Thriller</td>\n",
              "      <td>United States,United Kingdom</td>\n",
              "      <td>English,Japanese,French</td>\n",
              "      <td>148.0</td>\n",
              "    </tr>\n",
              "    <tr>\n",
              "      <th>1</th>\n",
              "      <td>1</td>\n",
              "      <td>2</td>\n",
              "      <td>The Matrix</td>\n",
              "      <td>1999</td>\n",
              "      <td>18+</td>\n",
              "      <td>8.7</td>\n",
              "      <td>87%</td>\n",
              "      <td>1</td>\n",
              "      <td>0</td>\n",
              "      <td>0</td>\n",
              "      <td>0</td>\n",
              "      <td>0</td>\n",
              "      <td>Lana Wachowski,Lilly Wachowski</td>\n",
              "      <td>Action,Sci-Fi</td>\n",
              "      <td>United States</td>\n",
              "      <td>English</td>\n",
              "      <td>136.0</td>\n",
              "    </tr>\n",
              "    <tr>\n",
              "      <th>2</th>\n",
              "      <td>2</td>\n",
              "      <td>3</td>\n",
              "      <td>Avengers: Infinity War</td>\n",
              "      <td>2018</td>\n",
              "      <td>13+</td>\n",
              "      <td>8.5</td>\n",
              "      <td>84%</td>\n",
              "      <td>1</td>\n",
              "      <td>0</td>\n",
              "      <td>0</td>\n",
              "      <td>0</td>\n",
              "      <td>0</td>\n",
              "      <td>Anthony Russo,Joe Russo</td>\n",
              "      <td>Action,Adventure,Sci-Fi</td>\n",
              "      <td>United States</td>\n",
              "      <td>English</td>\n",
              "      <td>149.0</td>\n",
              "    </tr>\n",
              "    <tr>\n",
              "      <th>3</th>\n",
              "      <td>3</td>\n",
              "      <td>4</td>\n",
              "      <td>Back to the Future</td>\n",
              "      <td>1985</td>\n",
              "      <td>7+</td>\n",
              "      <td>8.5</td>\n",
              "      <td>96%</td>\n",
              "      <td>1</td>\n",
              "      <td>0</td>\n",
              "      <td>0</td>\n",
              "      <td>0</td>\n",
              "      <td>0</td>\n",
              "      <td>Robert Zemeckis</td>\n",
              "      <td>Adventure,Comedy,Sci-Fi</td>\n",
              "      <td>United States</td>\n",
              "      <td>English</td>\n",
              "      <td>116.0</td>\n",
              "    </tr>\n",
              "    <tr>\n",
              "      <th>4</th>\n",
              "      <td>4</td>\n",
              "      <td>5</td>\n",
              "      <td>The Good, the Bad and the Ugly</td>\n",
              "      <td>1966</td>\n",
              "      <td>18+</td>\n",
              "      <td>8.8</td>\n",
              "      <td>97%</td>\n",
              "      <td>1</td>\n",
              "      <td>0</td>\n",
              "      <td>1</td>\n",
              "      <td>0</td>\n",
              "      <td>0</td>\n",
              "      <td>Sergio Leone</td>\n",
              "      <td>Western</td>\n",
              "      <td>Italy,Spain,West Germany</td>\n",
              "      <td>Italian</td>\n",
              "      <td>161.0</td>\n",
              "    </tr>\n",
              "    <tr>\n",
              "      <th>...</th>\n",
              "      <td>...</td>\n",
              "      <td>...</td>\n",
              "      <td>...</td>\n",
              "      <td>...</td>\n",
              "      <td>...</td>\n",
              "      <td>...</td>\n",
              "      <td>...</td>\n",
              "      <td>...</td>\n",
              "      <td>...</td>\n",
              "      <td>...</td>\n",
              "      <td>...</td>\n",
              "      <td>...</td>\n",
              "      <td>...</td>\n",
              "      <td>...</td>\n",
              "      <td>...</td>\n",
              "      <td>...</td>\n",
              "      <td>...</td>\n",
              "    </tr>\n",
              "    <tr>\n",
              "      <th>16739</th>\n",
              "      <td>16739</td>\n",
              "      <td>16740</td>\n",
              "      <td>The Ghosts of Buxley Hall</td>\n",
              "      <td>1980</td>\n",
              "      <td>NaN</td>\n",
              "      <td>6.2</td>\n",
              "      <td>NaN</td>\n",
              "      <td>0</td>\n",
              "      <td>0</td>\n",
              "      <td>0</td>\n",
              "      <td>1</td>\n",
              "      <td>0</td>\n",
              "      <td>Bruce Bilson</td>\n",
              "      <td>Comedy,Family,Fantasy,Horror</td>\n",
              "      <td>United States</td>\n",
              "      <td>English</td>\n",
              "      <td>120.0</td>\n",
              "    </tr>\n",
              "    <tr>\n",
              "      <th>16740</th>\n",
              "      <td>16740</td>\n",
              "      <td>16741</td>\n",
              "      <td>The Poof Point</td>\n",
              "      <td>2001</td>\n",
              "      <td>7+</td>\n",
              "      <td>4.7</td>\n",
              "      <td>NaN</td>\n",
              "      <td>0</td>\n",
              "      <td>0</td>\n",
              "      <td>0</td>\n",
              "      <td>1</td>\n",
              "      <td>0</td>\n",
              "      <td>Neal Israel</td>\n",
              "      <td>Comedy,Family,Sci-Fi</td>\n",
              "      <td>United States</td>\n",
              "      <td>English</td>\n",
              "      <td>90.0</td>\n",
              "    </tr>\n",
              "    <tr>\n",
              "      <th>16741</th>\n",
              "      <td>16741</td>\n",
              "      <td>16742</td>\n",
              "      <td>Sharks of Lost Island</td>\n",
              "      <td>2013</td>\n",
              "      <td>NaN</td>\n",
              "      <td>5.7</td>\n",
              "      <td>NaN</td>\n",
              "      <td>0</td>\n",
              "      <td>0</td>\n",
              "      <td>0</td>\n",
              "      <td>1</td>\n",
              "      <td>0</td>\n",
              "      <td>Neil Gelinas</td>\n",
              "      <td>Documentary</td>\n",
              "      <td>United States</td>\n",
              "      <td>English</td>\n",
              "      <td>NaN</td>\n",
              "    </tr>\n",
              "    <tr>\n",
              "      <th>16742</th>\n",
              "      <td>16742</td>\n",
              "      <td>16743</td>\n",
              "      <td>Man Among Cheetahs</td>\n",
              "      <td>2017</td>\n",
              "      <td>NaN</td>\n",
              "      <td>6.6</td>\n",
              "      <td>NaN</td>\n",
              "      <td>0</td>\n",
              "      <td>0</td>\n",
              "      <td>0</td>\n",
              "      <td>1</td>\n",
              "      <td>0</td>\n",
              "      <td>Richard Slater-Jones</td>\n",
              "      <td>Documentary</td>\n",
              "      <td>United States</td>\n",
              "      <td>English</td>\n",
              "      <td>NaN</td>\n",
              "    </tr>\n",
              "    <tr>\n",
              "      <th>16743</th>\n",
              "      <td>16743</td>\n",
              "      <td>16744</td>\n",
              "      <td>In Beaver Valley</td>\n",
              "      <td>1950</td>\n",
              "      <td>NaN</td>\n",
              "      <td>NaN</td>\n",
              "      <td>NaN</td>\n",
              "      <td>0</td>\n",
              "      <td>0</td>\n",
              "      <td>0</td>\n",
              "      <td>1</td>\n",
              "      <td>0</td>\n",
              "      <td>James Algar</td>\n",
              "      <td>Documentary,Short,Family</td>\n",
              "      <td>United States</td>\n",
              "      <td>English</td>\n",
              "      <td>32.0</td>\n",
              "    </tr>\n",
              "  </tbody>\n",
              "</table>\n",
              "<p>16744 rows × 17 columns</p>\n",
              "</div>"
            ],
            "text/plain": [
              "       Unnamed: 0     ID  ...                 Language  Runtime\n",
              "0               0      1  ...  English,Japanese,French    148.0\n",
              "1               1      2  ...                  English    136.0\n",
              "2               2      3  ...                  English    149.0\n",
              "3               3      4  ...                  English    116.0\n",
              "4               4      5  ...                  Italian    161.0\n",
              "...           ...    ...  ...                      ...      ...\n",
              "16739       16739  16740  ...                  English    120.0\n",
              "16740       16740  16741  ...                  English     90.0\n",
              "16741       16741  16742  ...                  English      NaN\n",
              "16742       16742  16743  ...                  English      NaN\n",
              "16743       16743  16744  ...                  English     32.0\n",
              "\n",
              "[16744 rows x 17 columns]"
            ]
          },
          "metadata": {
            "tags": []
          },
          "execution_count": 3
        }
      ]
    },
    {
      "cell_type": "code",
      "metadata": {
        "colab": {
          "base_uri": "https://localhost:8080/"
        },
        "id": "y4P9oCbTJo6g",
        "outputId": "e0e0f448-29ec-4599-b852-e12a3d9749ee"
      },
      "source": [
        "df.info()"
      ],
      "execution_count": 4,
      "outputs": [
        {
          "output_type": "stream",
          "text": [
            "<class 'pandas.core.frame.DataFrame'>\n",
            "RangeIndex: 16744 entries, 0 to 16743\n",
            "Data columns (total 17 columns):\n",
            " #   Column           Non-Null Count  Dtype  \n",
            "---  ------           --------------  -----  \n",
            " 0   Unnamed: 0       16744 non-null  int64  \n",
            " 1   ID               16744 non-null  int64  \n",
            " 2   Title            16744 non-null  object \n",
            " 3   Year             16744 non-null  int64  \n",
            " 4   Age              7354 non-null   object \n",
            " 5   IMDb             16173 non-null  float64\n",
            " 6   Rotten Tomatoes  5158 non-null   object \n",
            " 7   Netflix          16744 non-null  int64  \n",
            " 8   Hulu             16744 non-null  int64  \n",
            " 9   Prime Video      16744 non-null  int64  \n",
            " 10  Disney+          16744 non-null  int64  \n",
            " 11  Type             16744 non-null  int64  \n",
            " 12  Directors        16018 non-null  object \n",
            " 13  Genres           16469 non-null  object \n",
            " 14  Country          16309 non-null  object \n",
            " 15  Language         16145 non-null  object \n",
            " 16  Runtime          16152 non-null  float64\n",
            "dtypes: float64(2), int64(8), object(7)\n",
            "memory usage: 2.2+ MB\n"
          ],
          "name": "stdout"
        }
      ]
    },
    {
      "cell_type": "code",
      "metadata": {
        "colab": {
          "base_uri": "https://localhost:8080/"
        },
        "id": "dPwRFiXAD6VS",
        "outputId": "15dbdf81-236e-4409-ecd6-d04cd872968b"
      },
      "source": [
        "df.isna().sum()"
      ],
      "execution_count": 5,
      "outputs": [
        {
          "output_type": "execute_result",
          "data": {
            "text/plain": [
              "Unnamed: 0             0\n",
              "ID                     0\n",
              "Title                  0\n",
              "Year                   0\n",
              "Age                 9390\n",
              "IMDb                 571\n",
              "Rotten Tomatoes    11586\n",
              "Netflix                0\n",
              "Hulu                   0\n",
              "Prime Video            0\n",
              "Disney+                0\n",
              "Type                   0\n",
              "Directors            726\n",
              "Genres               275\n",
              "Country              435\n",
              "Language             599\n",
              "Runtime              592\n",
              "dtype: int64"
            ]
          },
          "metadata": {
            "tags": []
          },
          "execution_count": 5
        }
      ]
    },
    {
      "cell_type": "code",
      "metadata": {
        "id": "tdjANyxRRPqp"
      },
      "source": [
        "df['IMDb'].fillna(df['IMDb'].mean,inplace=True)"
      ],
      "execution_count": 6,
      "outputs": []
    },
    {
      "cell_type": "code",
      "metadata": {
        "id": "03vESNGMRuou"
      },
      "source": [
        "df['Runtime'].fillna(df['Runtime'].mean,inplace=True)"
      ],
      "execution_count": 7,
      "outputs": []
    },
    {
      "cell_type": "code",
      "metadata": {
        "id": "s684SZ3NTL-c"
      },
      "source": [
        "df.drop(['Rotten Tomatoes','Unnamed: 0','Type','Directors'],axis=1,inplace=True)"
      ],
      "execution_count": 8,
      "outputs": []
    },
    {
      "cell_type": "code",
      "metadata": {
        "id": "H7QsAHwESVCg"
      },
      "source": [
        "df.dropna(how='any',inplace=True)"
      ],
      "execution_count": 9,
      "outputs": []
    },
    {
      "cell_type": "code",
      "metadata": {
        "colab": {
          "base_uri": "https://localhost:8080/"
        },
        "id": "W6FsZuvRSbIr",
        "outputId": "077266ca-246b-4ae3-ca75-8f75aff49399"
      },
      "source": [
        "df.isna().sum()"
      ],
      "execution_count": 10,
      "outputs": [
        {
          "output_type": "execute_result",
          "data": {
            "text/plain": [
              "ID             0\n",
              "Title          0\n",
              "Year           0\n",
              "Age            0\n",
              "IMDb           0\n",
              "Netflix        0\n",
              "Hulu           0\n",
              "Prime Video    0\n",
              "Disney+        0\n",
              "Genres         0\n",
              "Country        0\n",
              "Language       0\n",
              "Runtime        0\n",
              "dtype: int64"
            ]
          },
          "metadata": {
            "tags": []
          },
          "execution_count": 10
        }
      ]
    },
    {
      "cell_type": "code",
      "metadata": {
        "colab": {
          "base_uri": "https://localhost:8080/",
          "height": 234
        },
        "id": "1sPWerqJhWxO",
        "outputId": "f366b821-c538-48be-e701-dd6455aa5867"
      },
      "source": [
        "df = df.set_index('ID')\n",
        "df.tail()"
      ],
      "execution_count": 11,
      "outputs": [
        {
          "output_type": "execute_result",
          "data": {
            "text/html": [
              "<div>\n",
              "<style scoped>\n",
              "    .dataframe tbody tr th:only-of-type {\n",
              "        vertical-align: middle;\n",
              "    }\n",
              "\n",
              "    .dataframe tbody tr th {\n",
              "        vertical-align: top;\n",
              "    }\n",
              "\n",
              "    .dataframe thead th {\n",
              "        text-align: right;\n",
              "    }\n",
              "</style>\n",
              "<table border=\"1\" class=\"dataframe\">\n",
              "  <thead>\n",
              "    <tr style=\"text-align: right;\">\n",
              "      <th></th>\n",
              "      <th>Title</th>\n",
              "      <th>Year</th>\n",
              "      <th>Age</th>\n",
              "      <th>IMDb</th>\n",
              "      <th>Netflix</th>\n",
              "      <th>Hulu</th>\n",
              "      <th>Prime Video</th>\n",
              "      <th>Disney+</th>\n",
              "      <th>Genres</th>\n",
              "      <th>Country</th>\n",
              "      <th>Language</th>\n",
              "      <th>Runtime</th>\n",
              "    </tr>\n",
              "    <tr>\n",
              "      <th>ID</th>\n",
              "      <th></th>\n",
              "      <th></th>\n",
              "      <th></th>\n",
              "      <th></th>\n",
              "      <th></th>\n",
              "      <th></th>\n",
              "      <th></th>\n",
              "      <th></th>\n",
              "      <th></th>\n",
              "      <th></th>\n",
              "      <th></th>\n",
              "      <th></th>\n",
              "    </tr>\n",
              "  </thead>\n",
              "  <tbody>\n",
              "    <tr>\n",
              "      <th>16727</th>\n",
              "      <td>Richie Rich's Christmas Wish</td>\n",
              "      <td>1998</td>\n",
              "      <td>all</td>\n",
              "      <td>4.1</td>\n",
              "      <td>0</td>\n",
              "      <td>0</td>\n",
              "      <td>0</td>\n",
              "      <td>1</td>\n",
              "      <td>Comedy,Family</td>\n",
              "      <td>United States</td>\n",
              "      <td>English</td>\n",
              "      <td>84</td>\n",
              "    </tr>\n",
              "    <tr>\n",
              "      <th>16728</th>\n",
              "      <td>The Jungle Book: Mowgli's Story</td>\n",
              "      <td>1998</td>\n",
              "      <td>all</td>\n",
              "      <td>4.2</td>\n",
              "      <td>0</td>\n",
              "      <td>0</td>\n",
              "      <td>0</td>\n",
              "      <td>1</td>\n",
              "      <td>Adventure,Family</td>\n",
              "      <td>United States</td>\n",
              "      <td>English</td>\n",
              "      <td>77</td>\n",
              "    </tr>\n",
              "    <tr>\n",
              "      <th>16738</th>\n",
              "      <td>The Bears and I</td>\n",
              "      <td>1974</td>\n",
              "      <td>all</td>\n",
              "      <td>6.2</td>\n",
              "      <td>0</td>\n",
              "      <td>0</td>\n",
              "      <td>0</td>\n",
              "      <td>1</td>\n",
              "      <td>Drama,Family</td>\n",
              "      <td>United States</td>\n",
              "      <td>English</td>\n",
              "      <td>89</td>\n",
              "    </tr>\n",
              "    <tr>\n",
              "      <th>16739</th>\n",
              "      <td>Whispers: An Elephant's Tale</td>\n",
              "      <td>2000</td>\n",
              "      <td>all</td>\n",
              "      <td>5</td>\n",
              "      <td>0</td>\n",
              "      <td>0</td>\n",
              "      <td>0</td>\n",
              "      <td>1</td>\n",
              "      <td>Adventure,Family</td>\n",
              "      <td>United States</td>\n",
              "      <td>English</td>\n",
              "      <td>72</td>\n",
              "    </tr>\n",
              "    <tr>\n",
              "      <th>16741</th>\n",
              "      <td>The Poof Point</td>\n",
              "      <td>2001</td>\n",
              "      <td>7+</td>\n",
              "      <td>4.7</td>\n",
              "      <td>0</td>\n",
              "      <td>0</td>\n",
              "      <td>0</td>\n",
              "      <td>1</td>\n",
              "      <td>Comedy,Family,Sci-Fi</td>\n",
              "      <td>United States</td>\n",
              "      <td>English</td>\n",
              "      <td>90</td>\n",
              "    </tr>\n",
              "  </tbody>\n",
              "</table>\n",
              "</div>"
            ],
            "text/plain": [
              "                                 Title  Year  ... Language Runtime\n",
              "ID                                            ...                 \n",
              "16727     Richie Rich's Christmas Wish  1998  ...  English      84\n",
              "16728  The Jungle Book: Mowgli's Story  1998  ...  English      77\n",
              "16738                  The Bears and I  1974  ...  English      89\n",
              "16739     Whispers: An Elephant's Tale  2000  ...  English      72\n",
              "16741                   The Poof Point  2001  ...  English      90\n",
              "\n",
              "[5 rows x 12 columns]"
            ]
          },
          "metadata": {
            "tags": []
          },
          "execution_count": 11
        }
      ]
    },
    {
      "cell_type": "code",
      "metadata": {
        "id": "RzBrm4x4e6H_"
      },
      "source": [
        "import seaborn as sns\n",
        "import plotly.express as px\n",
        "import matplotlib.pyplot as plt"
      ],
      "execution_count": 12,
      "outputs": []
    },
    {
      "cell_type": "code",
      "metadata": {
        "id": "v9PseJUWUAhM"
      },
      "source": [
        "year_movie = df.groupby('Year')[['Netflix','Hulu','Prime Video','Disney+']].sum()"
      ],
      "execution_count": 13,
      "outputs": []
    },
    {
      "cell_type": "code",
      "metadata": {
        "id": "x-ZioeifVMSR"
      },
      "source": [
        "x=df['Year']\n",
        "y=year_movie"
      ],
      "execution_count": 14,
      "outputs": []
    },
    {
      "cell_type": "code",
      "metadata": {
        "colab": {
          "base_uri": "https://localhost:8080/",
          "height": 312
        },
        "id": "cIPz4RCWVfyr",
        "outputId": "14f77434-ada0-4d32-b67b-1e8c9318bd96"
      },
      "source": [
        "bins=[1900,1920,1940,1960,1980,2000,2020]\n",
        "plt.hist(x, bins=bins,edgecolor='black',log=True)\n",
        "plt.title('Total Movies per year')\n",
        "plt.ylabel('no of values')\n",
        "plt.xlabel('Year')"
      ],
      "execution_count": 15,
      "outputs": [
        {
          "output_type": "execute_result",
          "data": {
            "text/plain": [
              "Text(0.5, 0, 'Year')"
            ]
          },
          "metadata": {
            "tags": []
          },
          "execution_count": 15
        },
        {
          "output_type": "display_data",
          "data": {
            "image/png": "[encoded data removed]",
            "text/plain": [
              "<Figure size 432x288 with 1 Axes>"
            ]
          },
          "metadata": {
            "tags": [],
            "needs_background": "light"
          }
        }
      ]
    },
    {
      "cell_type": "code",
      "metadata": {
        "id": "q59jm-hUdb_J"
      },
      "source": [
        "def split_mulcol(x):\n",
        "    res = x.to_frame()\n",
        "    opt = []\n",
        "    \n",
        "    for i, j  in x[x.notnull()].iteritems():\n",
        "        \n",
        "        for k in j.split(','):\n",
        "            \n",
        "            if not k in res.columns:\n",
        "                opt.append(k)\n",
        "                res[k] = False\n",
        "            \n",
        "            res.at[i, k] = True\n",
        "    \n",
        "    return res[opt]"
      ],
      "execution_count": 16,
      "outputs": []
    },
    {
      "cell_type": "code",
      "metadata": {
        "colab": {
          "base_uri": "https://localhost:8080/",
          "height": 387
        },
        "id": "1CZ8YOPQddoA",
        "outputId": "0099593c-c5a4-42ab-b678-a25789514547"
      },
      "source": [
        "lang = split_mulcol(df[\"Language\"])\n",
        "lang = lang.sum().sort_values(ascending=False).reset_index()\n",
        "lang = pd.DataFrame(lang.values, columns=['Language',\"No. of Movies\"])\n",
        "\n",
        "plt.figure(figsize = (15,5))\n",
        "lang = lang[:20]\n",
        "ax = sns.barplot(x=lang[\"Language\"], y= lang[\"No. of Movies\"], data=lang ,palette = \"coolwarm\")\n",
        "plt.title (\"Top 20 languages for movies\")\n",
        "plt.xticks(rotation = 45, ha = 'right')\n",
        "plt.xlabel(\"Language\")\n",
        "plt.ylabel(\"No. of Movies\")\n",
        "plt.show()"
      ],
      "execution_count": 17,
      "outputs": [
        {
          "output_type": "display_data",
          "data": {
            "image/png": "[encoded data removed]",
            "text/plain": [
              "<Figure size 1080x360 with 1 Axes>"
            ]
          },
          "metadata": {
            "tags": [],
            "needs_background": "light"
          }
        }
      ]
    },
    {
      "cell_type": "code",
      "metadata": {
        "colab": {
          "base_uri": "https://localhost:8080/",
          "height": 395
        },
        "id": "CEhFa9kZeHbc",
        "outputId": "cb094bf8-6edb-46d1-cd2c-9be9882918dd"
      },
      "source": [
        "genres = split_mulcol(df[\"Genres\"])\n",
        "genres = genres.sum().sort_values(ascending=False).reset_index()\n",
        "genres = pd.DataFrame(genres.values, columns=['Genre',\"No. of Movies\"])\n",
        "genres = genres[:20]\n",
        "\n",
        "plt.figure(figsize = (15,5))\n",
        "ax = sns.barplot(x=genres[\"Genre\"], y= genres[\"No. of Movies\"], data=genres , palette = \"rocket\")\n",
        "plt.title (\"Distribution among the Genres\")\n",
        "plt.xticks(rotation = 45, ha = 'right')\n",
        "plt.xlabel(\"Genres\")\n",
        "plt.ylabel(\"No. of Movies\")\n",
        "plt.show()"
      ],
      "execution_count": 18,
      "outputs": [
        {
          "output_type": "display_data",
          "data": {
            "image/png": "[encoded data removed]",
            "text/plain": [
              "<Figure size 1080x360 with 1 Axes>"
            ]
          },
          "metadata": {
            "tags": [],
            "needs_background": "light"
          }
        }
      ]
    },
    {
      "cell_type": "code",
      "metadata": {
        "colab": {
          "base_uri": "https://localhost:8080/",
          "height": 445
        },
        "id": "xl6unt9HenYZ",
        "outputId": "9f284db0-c0d3-442b-d4d4-e25d18d19cfc"
      },
      "source": [
        "cont = split_mulcol(df[\"Country\"])\n",
        "cont = cont.sum().sort_values(ascending=False).reset_index()\n",
        "cont = pd.DataFrame(cont.values, columns=['Country',\"No. of Movies\"])\n",
        "cont = cont[:30]\n",
        "\n",
        "plt.figure(figsize = (15,5))\n",
        "ax = sns.barplot(x=cont[\"Country\"], y= cont[\"No. of Movies\"], data=cont , palette = \"viridis\")\n",
        "plt.title (\"Top 30 countries with the most releases\")\n",
        "plt.xticks(rotation = 74, ha = 'right')\n",
        "plt.xlabel(\"Country\")\n",
        "plt.ylabel(\"No. of Movies\")\n",
        "plt.show()"
      ],
      "execution_count": 19,
      "outputs": [
        {
          "output_type": "display_data",
          "data": {
            "image/png": "[encoded data removed]",
            "text/plain": [
              "<Figure size 1080x360 with 1 Axes>"
            ]
          },
          "metadata": {
            "tags": [],
            "needs_background": "light"
          }
        }
      ]
    },
    {
      "cell_type": "code",
      "metadata": {
        "colab": {
          "base_uri": "https://localhost:8080/",
          "height": 362
        },
        "id": "iIugNeg5e7lP",
        "outputId": "af4e7e0d-86eb-468e-e6af-cb2e05e3c310"
      },
      "source": [
        "df_age = df.Age.value_counts().reset_index()\n",
        "df_age = pd.DataFrame(df_age.values, columns = ['Age', \"No. of Movies\"]).sort_values('No. of Movies',ascending=False)\n",
        "\n",
        "plt.figure(figsize = (15,5))\n",
        "ax = sns.barplot(x=df_age[\"Age\"], y= df_age[\"No. of Movies\"], data=df , palette = \"rocket\")\n",
        "plt.title (\"No. of Movies for the minimum age\")\n",
        "plt.xticks(rotation = 45, ha = 'right')\n",
        "plt.xlabel(\"Min age\")\n",
        "plt.ylabel(\"No. of Movies\")\n",
        "plt.show()"
      ],
      "execution_count": 20,
      "outputs": [
        {
          "output_type": "display_data",
          "data": {
            "image/png": "[encoded data removed]",
            "text/plain": [
              "<Figure size 1080x360 with 1 Axes>"
            ]
          },
          "metadata": {
            "tags": [],
            "needs_background": "light"
          }
        }
      ]
    },
    {
      "cell_type": "code",
      "metadata": {
        "colab": {
          "base_uri": "https://localhost:8080/",
          "height": 513
        },
        "id": "vkrUNaRqh5cR",
        "outputId": "fcd5e74b-f28e-46c1-f9d6-3dcd547e2cdc"
      },
      "source": [
        "mpppy = df.groupby('Year')[['Netflix','Hulu','Prime Video','Disney+']].sum()\n",
        "plt.figure(figsize = (16, 8))\n",
        "sns.lineplot(x=mpppy.index,y=mpppy['Netflix'], color='red', label='Netflix')\n",
        "sns.lineplot(x=mpppy.index,y=mpppy['Hulu'], color = 'green', label='Hulu')\n",
        "sns.lineplot(x=mpppy.index,y=mpppy['Prime Video'], color = 'blue', label='Prime Videos')\n",
        "sns.lineplot(x=mpppy.index,y=mpppy['Disney+'], color = 'black', label='Disney+')\n",
        "plt.title(\"Movies per platform of particular years\")\n",
        "plt.legend()\n",
        "plt.xlabel('Release Year')\n",
        "plt.ylabel('No. of Movies')\n",
        "plt.show()"
      ],
      "execution_count": 21,
      "outputs": [
        {
          "output_type": "display_data",
          "data": {
            "image/png": "[encoded data removed]",
            "text/plain": [
              "<Figure size 1152x576 with 1 Axes>"
            ]
          },
          "metadata": {
            "tags": [],
            "needs_background": "light"
          }
        }
      ]
    },
    {
      "cell_type": "code",
      "metadata": {
        "id": "4leDQyIrDOpv"
      },
      "source": [
        "genres = df['Genres'].str.get_dummies(',')\n",
        "data = pd.concat([df,genres],axis=1,sort=False)"
      ],
      "execution_count": 22,
      "outputs": []
    },
    {
      "cell_type": "code",
      "metadata": {
        "id": "MXe3C1eFS00c"
      },
      "source": [
        "netflix = len(data[data['Netflix']==1])\n",
        "hulu = len(data[data['Hulu']==1])\n",
        "prime = len(data[data['Prime Video']==1])\n",
        "disney = len(data[data['Disney+']==1])\n",
        "Platform=['Netflix','Hulu','Prime Video','Disney+']\n",
        "Count = [netflix,hulu,prime,disney]\n",
        "\n",
        "fig = px.pie(names=Platform,values=Count,title='Movie Count Of Different Platforms',\n",
        "            color_discrete_sequence=px.colors.sequential.Sunsetdark)\n",
        "fig.update_traces(textposition='inside', textinfo='percent+label')\n",
        "fig.show()"
      ],
      "execution_count": null,
      "outputs": []
    },
    {
      "cell_type": "code",
      "metadata": {
        "id": "6YzFsav5FH-k"
      },
      "source": [
        "features = data[['Action', 'Adventure', 'Animation',\n",
        "                 'Biography', 'Comedy', 'Crime', 'Documentary', 'Drama', 'Family',\n",
        "                 'Fantasy', 'Film-Noir', 'History', 'Horror', 'Music',\n",
        "                 'Musical', 'Mystery', 'News', 'Reality-TV', 'Romance', 'Sci-Fi',\n",
        "                 'Short', 'Sport','Thriller', 'War', 'Western']].astype(int)"
      ],
      "execution_count": null,
      "outputs": []
    },
    {
      "cell_type": "code",
      "metadata": {
        "id": "PGR8eBAriz0n"
      },
      "source": [
        "from sklearn.preprocessing import StandardScaler"
      ],
      "execution_count": null,
      "outputs": []
    },
    {
      "cell_type": "code",
      "metadata": {
        "id": "DCn3xZ3KFJsI"
      },
      "source": [
        "scaler = StandardScaler()\n",
        "scaled_data = scaler.fit_transform(features)"
      ],
      "execution_count": null,
      "outputs": []
    },
    {
      "cell_type": "code",
      "metadata": {
        "id": "tS24PjX7FvO7"
      },
      "source": [
        "from sklearn.manifold import TSNE\n",
        "from sklearn.cluster import KMeans"
      ],
      "execution_count": null,
      "outputs": []
    },
    {
      "cell_type": "code",
      "metadata": {
        "id": "PNmmolX2GOqc"
      },
      "source": [
        "tsne = TSNE(n_components=2)\n",
        "transformed_genre = tsne.fit_transform(scaled_data)"
      ],
      "execution_count": null,
      "outputs": []
    },
    {
      "cell_type": "code",
      "metadata": {
        "id": "YznGyDJkGXxk"
      },
      "source": [
        "distortions = []\n",
        "K = range(1,100)\n",
        "for k in K:\n",
        "    kmean = KMeans(n_clusters=k)\n",
        "    kmean.fit(scaled_data)\n",
        "    distortions.append(kmean.inertia_)\n",
        "fig = px.line(x=K,y=distortions,title='The Elbow Method Showing The Optimal K',\n",
        "              labels={'x':'No of Clusters','y':'Distortions'})\n",
        "fig.show()"
      ],
      "execution_count": null,
      "outputs": []
    },
    {
      "cell_type": "code",
      "metadata": {
        "id": "kDFCOjK6GgWi"
      },
      "source": [
        "cluster = KMeans(n_clusters=27)\n",
        "group_pred = cluster.fit_predict(scaled_data)\n",
        "\n",
        "tsne_df = pd.DataFrame(np.column_stack((transformed_genre,group_pred,data['Title'],data['Genres'])),columns=['X','Y','Group','Title','Genres'])\n",
        "\n",
        "fig = px.scatter(tsne_df,x='X',y='Y',hover_data=['Title','Genres'],color='Group',\n",
        "                 color_discrete_sequence=px.colors.cyclical.IceFire)\n",
        "fig.show()"
      ],
      "execution_count": null,
      "outputs": []
    },
    {
      "cell_type": "code",
      "metadata": {
        "id": "x86nMq2jQWMJ"
      },
      "source": [
        ""
      ],
      "execution_count": null,
      "outputs": []
    }
  ]
}